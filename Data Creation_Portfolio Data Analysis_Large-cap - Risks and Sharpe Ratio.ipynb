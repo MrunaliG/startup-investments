{
 "cells": [
  {
   "cell_type": "code",
   "execution_count": 1,
   "id": "86da57a2",
   "metadata": {},
   "outputs": [],
   "source": [
    "import glob\n",
    "import numpy as np\n",
    "import datetime as dt\n",
    "from pathlib import Path\n",
    "import pandas as pd\n",
    "import matplotlib.pyplot as plt\n",
    "%matplotlib inline"
   ]
  },
  {
   "cell_type": "code",
   "execution_count": 2,
   "id": "0bb3dce3",
   "metadata": {},
   "outputs": [],
   "source": [
    "company_name = {\n",
    "    \"CFG\": \"\",\n",
    "    \"FHN\": \"\",\n",
    "    \"SF\": \"\",\n",
    "    \"IBKR\": \"\",\n",
    "    \"ALLY\": \"\",\n",
    "    \"WFC\": \"\",\n",
    "    \"C\": \"Citigroup\",\n",
    "    \"BAC\": \"\",\n",
    "    \"FRC\": \"\",\n",
    "    \"JPM\": \"\",\n",
    "    \"DCOM\": \"\",\n",
    "    \"PEBO\": \"\",\n",
    "    \"SBNY\": \"\",\n",
    "    \"FNB\": \"\",\n",
    "    \"OCFC\": \"\",\n",
    "    \"MSFT\": \"\",\n",
    "    \"NVDA\": \"\",\n",
    "    \"FB\": \"\",\n",
    "    \"GOOGL\": \"Google\",\n",
    "    \"AAPL\": \"\",\n",
    "    \"NVS\": \"\",\n",
    "    \"AZN\": \"\",\n",
    "    \"MRNA\": \"\",\n",
    "    \"PFE\": \"\",\n",
    "    \"JNJ\": \"\"\n",
    "}"
   ]
  },
  {
   "cell_type": "code",
   "execution_count": 3,
   "id": "e101990e",
   "metadata": {},
   "outputs": [
    {
     "name": "stdout",
     "output_type": "stream",
     "text": [
      "Data/Technology/Large-Cap/NVDA.csv\n",
      "Data/Healthcare/Large-Cap/MRNA.csv\n",
      "Data/Banking/Large-Cap/FRC.csv\n",
      "(1257, 4)\n"
     ]
    },
    {
     "data": {
      "text/html": [
       "<div>\n",
       "<style scoped>\n",
       "    .dataframe tbody tr th:only-of-type {\n",
       "        vertical-align: middle;\n",
       "    }\n",
       "\n",
       "    .dataframe tbody tr th {\n",
       "        vertical-align: top;\n",
       "    }\n",
       "\n",
       "    .dataframe thead th {\n",
       "        text-align: right;\n",
       "    }\n",
       "</style>\n",
       "<table border=\"1\" class=\"dataframe\">\n",
       "  <thead>\n",
       "    <tr style=\"text-align: right;\">\n",
       "      <th></th>\n",
       "      <th>Close</th>\n",
       "      <th>Sector</th>\n",
       "      <th>Cap</th>\n",
       "      <th>Company</th>\n",
       "    </tr>\n",
       "    <tr>\n",
       "      <th>Date</th>\n",
       "      <th></th>\n",
       "      <th></th>\n",
       "      <th></th>\n",
       "      <th></th>\n",
       "    </tr>\n",
       "  </thead>\n",
       "  <tbody>\n",
       "    <tr>\n",
       "      <th>2019-12-02</th>\n",
       "      <td>52.312500</td>\n",
       "      <td>Technology</td>\n",
       "      <td>Large-Cap</td>\n",
       "      <td>NVDA</td>\n",
       "    </tr>\n",
       "    <tr>\n",
       "      <th>2019-12-03</th>\n",
       "      <td>51.915001</td>\n",
       "      <td>Technology</td>\n",
       "      <td>Large-Cap</td>\n",
       "      <td>NVDA</td>\n",
       "    </tr>\n",
       "    <tr>\n",
       "      <th>2019-12-04</th>\n",
       "      <td>52.355000</td>\n",
       "      <td>Technology</td>\n",
       "      <td>Large-Cap</td>\n",
       "      <td>NVDA</td>\n",
       "    </tr>\n",
       "    <tr>\n",
       "      <th>2019-12-05</th>\n",
       "      <td>52.185001</td>\n",
       "      <td>Technology</td>\n",
       "      <td>Large-Cap</td>\n",
       "      <td>NVDA</td>\n",
       "    </tr>\n",
       "    <tr>\n",
       "      <th>2019-12-06</th>\n",
       "      <td>53.042500</td>\n",
       "      <td>Technology</td>\n",
       "      <td>Large-Cap</td>\n",
       "      <td>NVDA</td>\n",
       "    </tr>\n",
       "  </tbody>\n",
       "</table>\n",
       "</div>"
      ],
      "text/plain": [
       "                Close      Sector        Cap Company\n",
       "Date                                                \n",
       "2019-12-02  52.312500  Technology  Large-Cap    NVDA\n",
       "2019-12-03  51.915001  Technology  Large-Cap    NVDA\n",
       "2019-12-04  52.355000  Technology  Large-Cap    NVDA\n",
       "2019-12-05  52.185001  Technology  Large-Cap    NVDA\n",
       "2019-12-06  53.042500  Technology  Large-Cap    NVDA"
      ]
     },
     "execution_count": 3,
     "metadata": {},
     "output_type": "execute_result"
    }
   ],
   "source": [
    "df = pd.DataFrame()\n",
    "portfolio_paths = [\"Data/Technology/Large-Cap/NVDA.csv\", \"Data/Healthcare/Large-Cap/MRNA.csv\",\n",
    "                   \"Data/Banking/Large-Cap/FRC.csv\"]\n",
    "\n",
    "for path in portfolio_paths:\n",
    "    print(path)\n",
    "    sector = path.split(\"/\")[1]\n",
    "    cap = path.split(\"/\")[2]\n",
    "    company = path.split(\"/\")[3].split(\".\")[0]\n",
    "    \n",
    "    newdf = pd.read_csv(path, usecols=[\"Close\",\"Date\"], index_col =[\"Date\"], infer_datetime_format= True, parse_dates= True)\n",
    "    \n",
    "    lendf = len(newdf)\n",
    "    newdf[\"Sector\"] = [sector] * lendf\n",
    "    newdf[\"Cap\"] = [cap] * lendf\n",
    "    newdf[\"Company\"] = [company] * lendf\n",
    "    df = pd.concat([df, newdf], axis=0)\n",
    "\n",
    "print(df.shape)\n",
    "df.head()"
   ]
  },
  {
   "cell_type": "code",
   "execution_count": 4,
   "id": "90959ffe",
   "metadata": {},
   "outputs": [
    {
     "name": "stdout",
     "output_type": "stream",
     "text": [
      "Index(['S&P 500'], dtype='object')\n",
      "(418, 1)\n"
     ]
    },
    {
     "data": {
      "text/html": [
       "<div>\n",
       "<style scoped>\n",
       "    .dataframe tbody tr th:only-of-type {\n",
       "        vertical-align: middle;\n",
       "    }\n",
       "\n",
       "    .dataframe tbody tr th {\n",
       "        vertical-align: top;\n",
       "    }\n",
       "\n",
       "    .dataframe thead th {\n",
       "        text-align: right;\n",
       "    }\n",
       "</style>\n",
       "<table border=\"1\" class=\"dataframe\">\n",
       "  <thead>\n",
       "    <tr style=\"text-align: right;\">\n",
       "      <th></th>\n",
       "      <th>S&amp;P 500</th>\n",
       "    </tr>\n",
       "    <tr>\n",
       "      <th>Date</th>\n",
       "      <th></th>\n",
       "    </tr>\n",
       "  </thead>\n",
       "  <tbody>\n",
       "    <tr>\n",
       "      <th>2021-07-29</th>\n",
       "      <td>0.005435</td>\n",
       "    </tr>\n",
       "    <tr>\n",
       "      <th>2021-07-28</th>\n",
       "      <td>-0.004189</td>\n",
       "    </tr>\n",
       "    <tr>\n",
       "      <th>2021-07-27</th>\n",
       "      <td>0.000186</td>\n",
       "    </tr>\n",
       "    <tr>\n",
       "      <th>2021-07-26</th>\n",
       "      <td>0.004735</td>\n",
       "    </tr>\n",
       "    <tr>\n",
       "      <th>2021-07-23</th>\n",
       "      <td>-0.002377</td>\n",
       "    </tr>\n",
       "  </tbody>\n",
       "</table>\n",
       "</div>"
      ],
      "text/plain": [
       "             S&P 500\n",
       "Date                \n",
       "2021-07-29  0.005435\n",
       "2021-07-28 -0.004189\n",
       "2021-07-27  0.000186\n",
       "2021-07-26  0.004735\n",
       "2021-07-23 -0.002377"
      ]
     },
     "execution_count": 4,
     "metadata": {},
     "output_type": "execute_result"
    }
   ],
   "source": [
    "benchmark_all = pd.read_csv(\"Data/Benchmark/S&P 500.csv\", usecols=[\" Close\",\"Date\"], index_col =[\"Date\"], infer_datetime_format= True, parse_dates= True)\n",
    "benchmark_all.rename(columns={' Close': 'S&P 500'}, inplace=True)\n",
    "benchmark_all = benchmark_all.pct_change().dropna()\n",
    "print(benchmark_all.columns)\n",
    "print(benchmark_all.shape)\n",
    "benchmark_all.head()"
   ]
  },
  {
   "cell_type": "code",
   "execution_count": 5,
   "id": "6ca50315",
   "metadata": {},
   "outputs": [],
   "source": [
    "large_cap = df"
   ]
  },
  {
   "cell_type": "code",
   "execution_count": 6,
   "id": "66752767",
   "metadata": {},
   "outputs": [
    {
     "data": {
      "text/plain": [
       "Healthcare    419\n",
       "Technology    419\n",
       "Banking       419\n",
       "Name: Sector, dtype: int64"
      ]
     },
     "execution_count": 6,
     "metadata": {},
     "output_type": "execute_result"
    }
   ],
   "source": [
    "large_cap[\"Sector\"].value_counts()"
   ]
  },
  {
   "cell_type": "code",
   "execution_count": 7,
   "id": "4f3ffc6a",
   "metadata": {},
   "outputs": [
    {
     "data": {
      "text/plain": [
       "Sector      Company\n",
       "Banking     FRC        419\n",
       "Healthcare  MRNA       419\n",
       "Technology  NVDA       419\n",
       "dtype: int64"
      ]
     },
     "execution_count": 7,
     "metadata": {},
     "output_type": "execute_result"
    }
   ],
   "source": [
    "large_cap[[\"Sector\",\"Company\"]].value_counts()"
   ]
  },
  {
   "cell_type": "markdown",
   "id": "39627616",
   "metadata": {},
   "source": [
    "### Output 1 -> Average risk of portfolio and benchmark for large-cap"
   ]
  },
  {
   "cell_type": "code",
   "execution_count": 8,
   "id": "91fdd933",
   "metadata": {},
   "outputs": [
    {
     "data": {
      "text/html": [
       "<div>\n",
       "<style scoped>\n",
       "    .dataframe tbody tr th:only-of-type {\n",
       "        vertical-align: middle;\n",
       "    }\n",
       "\n",
       "    .dataframe tbody tr th {\n",
       "        vertical-align: top;\n",
       "    }\n",
       "\n",
       "    .dataframe thead th {\n",
       "        text-align: right;\n",
       "    }\n",
       "</style>\n",
       "<table border=\"1\" class=\"dataframe\">\n",
       "  <thead>\n",
       "    <tr style=\"text-align: right;\">\n",
       "      <th></th>\n",
       "      <th>Close</th>\n",
       "      <th>Sector</th>\n",
       "      <th>Cap</th>\n",
       "      <th>Company</th>\n",
       "    </tr>\n",
       "    <tr>\n",
       "      <th>Date</th>\n",
       "      <th></th>\n",
       "      <th></th>\n",
       "      <th></th>\n",
       "      <th></th>\n",
       "    </tr>\n",
       "  </thead>\n",
       "  <tbody>\n",
       "    <tr>\n",
       "      <th>2019-12-02</th>\n",
       "      <td>52.312500</td>\n",
       "      <td>Technology</td>\n",
       "      <td>Large-Cap</td>\n",
       "      <td>NVDA</td>\n",
       "    </tr>\n",
       "    <tr>\n",
       "      <th>2019-12-03</th>\n",
       "      <td>51.915001</td>\n",
       "      <td>Technology</td>\n",
       "      <td>Large-Cap</td>\n",
       "      <td>NVDA</td>\n",
       "    </tr>\n",
       "    <tr>\n",
       "      <th>2019-12-04</th>\n",
       "      <td>52.355000</td>\n",
       "      <td>Technology</td>\n",
       "      <td>Large-Cap</td>\n",
       "      <td>NVDA</td>\n",
       "    </tr>\n",
       "    <tr>\n",
       "      <th>2019-12-05</th>\n",
       "      <td>52.185001</td>\n",
       "      <td>Technology</td>\n",
       "      <td>Large-Cap</td>\n",
       "      <td>NVDA</td>\n",
       "    </tr>\n",
       "    <tr>\n",
       "      <th>2019-12-06</th>\n",
       "      <td>53.042500</td>\n",
       "      <td>Technology</td>\n",
       "      <td>Large-Cap</td>\n",
       "      <td>NVDA</td>\n",
       "    </tr>\n",
       "  </tbody>\n",
       "</table>\n",
       "</div>"
      ],
      "text/plain": [
       "                Close      Sector        Cap Company\n",
       "Date                                                \n",
       "2019-12-02  52.312500  Technology  Large-Cap    NVDA\n",
       "2019-12-03  51.915001  Technology  Large-Cap    NVDA\n",
       "2019-12-04  52.355000  Technology  Large-Cap    NVDA\n",
       "2019-12-05  52.185001  Technology  Large-Cap    NVDA\n",
       "2019-12-06  53.042500  Technology  Large-Cap    NVDA"
      ]
     },
     "execution_count": 8,
     "metadata": {},
     "output_type": "execute_result"
    }
   ],
   "source": [
    "large_cap.head()"
   ]
  },
  {
   "cell_type": "code",
   "execution_count": 9,
   "id": "4e05a846",
   "metadata": {},
   "outputs": [],
   "source": [
    "large_cap.drop(columns=[\"Cap\"], inplace=True)"
   ]
  },
  {
   "cell_type": "code",
   "execution_count": 10,
   "id": "3dd7e45c",
   "metadata": {},
   "outputs": [
    {
     "data": {
      "text/html": [
       "<div>\n",
       "<style scoped>\n",
       "    .dataframe tbody tr th:only-of-type {\n",
       "        vertical-align: middle;\n",
       "    }\n",
       "\n",
       "    .dataframe tbody tr th {\n",
       "        vertical-align: top;\n",
       "    }\n",
       "\n",
       "    .dataframe thead tr th {\n",
       "        text-align: left;\n",
       "    }\n",
       "\n",
       "    .dataframe thead tr:last-of-type th {\n",
       "        text-align: right;\n",
       "    }\n",
       "</style>\n",
       "<table border=\"1\" class=\"dataframe\">\n",
       "  <thead>\n",
       "    <tr>\n",
       "      <th>Sector</th>\n",
       "      <th>Banking</th>\n",
       "      <th>Healthcare</th>\n",
       "      <th>Technology</th>\n",
       "    </tr>\n",
       "    <tr>\n",
       "      <th>Company</th>\n",
       "      <th>FRC</th>\n",
       "      <th>MRNA</th>\n",
       "      <th>NVDA</th>\n",
       "    </tr>\n",
       "    <tr>\n",
       "      <th>Date</th>\n",
       "      <th></th>\n",
       "      <th></th>\n",
       "      <th></th>\n",
       "    </tr>\n",
       "  </thead>\n",
       "  <tbody>\n",
       "    <tr>\n",
       "      <th>2019-12-02</th>\n",
       "      <td>110.070000</td>\n",
       "      <td>19.760000</td>\n",
       "      <td>52.312500</td>\n",
       "    </tr>\n",
       "    <tr>\n",
       "      <th>2019-12-03</th>\n",
       "      <td>109.070000</td>\n",
       "      <td>21.280001</td>\n",
       "      <td>51.915001</td>\n",
       "    </tr>\n",
       "    <tr>\n",
       "      <th>2019-12-04</th>\n",
       "      <td>110.260002</td>\n",
       "      <td>21.270000</td>\n",
       "      <td>52.355000</td>\n",
       "    </tr>\n",
       "    <tr>\n",
       "      <th>2019-12-05</th>\n",
       "      <td>110.970001</td>\n",
       "      <td>20.639999</td>\n",
       "      <td>52.185001</td>\n",
       "    </tr>\n",
       "    <tr>\n",
       "      <th>2019-12-06</th>\n",
       "      <td>112.529999</td>\n",
       "      <td>18.940001</td>\n",
       "      <td>53.042500</td>\n",
       "    </tr>\n",
       "  </tbody>\n",
       "</table>\n",
       "</div>"
      ],
      "text/plain": [
       "Sector         Banking Healthcare Technology\n",
       "Company            FRC       MRNA       NVDA\n",
       "Date                                        \n",
       "2019-12-02  110.070000  19.760000  52.312500\n",
       "2019-12-03  109.070000  21.280001  51.915001\n",
       "2019-12-04  110.260002  21.270000  52.355000\n",
       "2019-12-05  110.970001  20.639999  52.185001\n",
       "2019-12-06  112.529999  18.940001  53.042500"
      ]
     },
     "execution_count": 10,
     "metadata": {},
     "output_type": "execute_result"
    }
   ],
   "source": [
    "large_cap_pivot = pd.pivot_table(large_cap, values=\"Close\", index=\"Date\", columns=[\"Sector\", \"Company\"])\n",
    "large_cap_pivot.head()"
   ]
  },
  {
   "cell_type": "code",
   "execution_count": 11,
   "id": "9df3721f",
   "metadata": {},
   "outputs": [
    {
     "name": "stdout",
     "output_type": "stream",
     "text": [
      "(419, 3)\n"
     ]
    },
    {
     "data": {
      "text/html": [
       "<div>\n",
       "<style scoped>\n",
       "    .dataframe tbody tr th:only-of-type {\n",
       "        vertical-align: middle;\n",
       "    }\n",
       "\n",
       "    .dataframe tbody tr th {\n",
       "        vertical-align: top;\n",
       "    }\n",
       "\n",
       "    .dataframe thead tr th {\n",
       "        text-align: left;\n",
       "    }\n",
       "\n",
       "    .dataframe thead tr:last-of-type th {\n",
       "        text-align: right;\n",
       "    }\n",
       "</style>\n",
       "<table border=\"1\" class=\"dataframe\">\n",
       "  <thead>\n",
       "    <tr>\n",
       "      <th>Sector</th>\n",
       "      <th>Banking</th>\n",
       "      <th>Healthcare</th>\n",
       "      <th>Technology</th>\n",
       "    </tr>\n",
       "    <tr>\n",
       "      <th>Company</th>\n",
       "      <th>FRC</th>\n",
       "      <th>MRNA</th>\n",
       "      <th>NVDA</th>\n",
       "    </tr>\n",
       "    <tr>\n",
       "      <th>Date</th>\n",
       "      <th></th>\n",
       "      <th></th>\n",
       "      <th></th>\n",
       "    </tr>\n",
       "  </thead>\n",
       "  <tbody>\n",
       "    <tr>\n",
       "      <th>2019-12-02</th>\n",
       "      <td>NaN</td>\n",
       "      <td>NaN</td>\n",
       "      <td>NaN</td>\n",
       "    </tr>\n",
       "    <tr>\n",
       "      <th>2019-12-03</th>\n",
       "      <td>-0.009085</td>\n",
       "      <td>0.076923</td>\n",
       "      <td>-0.007599</td>\n",
       "    </tr>\n",
       "    <tr>\n",
       "      <th>2019-12-04</th>\n",
       "      <td>0.010910</td>\n",
       "      <td>-0.000470</td>\n",
       "      <td>0.008475</td>\n",
       "    </tr>\n",
       "    <tr>\n",
       "      <th>2019-12-05</th>\n",
       "      <td>0.006439</td>\n",
       "      <td>-0.029619</td>\n",
       "      <td>-0.003247</td>\n",
       "    </tr>\n",
       "    <tr>\n",
       "      <th>2019-12-06</th>\n",
       "      <td>0.014058</td>\n",
       "      <td>-0.082364</td>\n",
       "      <td>0.016432</td>\n",
       "    </tr>\n",
       "  </tbody>\n",
       "</table>\n",
       "</div>"
      ],
      "text/plain": [
       "Sector       Banking Healthcare Technology\n",
       "Company          FRC       MRNA       NVDA\n",
       "Date                                      \n",
       "2019-12-02       NaN        NaN        NaN\n",
       "2019-12-03 -0.009085   0.076923  -0.007599\n",
       "2019-12-04  0.010910  -0.000470   0.008475\n",
       "2019-12-05  0.006439  -0.029619  -0.003247\n",
       "2019-12-06  0.014058  -0.082364   0.016432"
      ]
     },
     "execution_count": 11,
     "metadata": {},
     "output_type": "execute_result"
    }
   ],
   "source": [
    "large_cap_returns = large_cap_pivot.pct_change()\n",
    "print(large_cap_returns.shape)\n",
    "large_cap_returns.head()"
   ]
  },
  {
   "cell_type": "code",
   "execution_count": 12,
   "id": "a8bfaf08",
   "metadata": {},
   "outputs": [
    {
     "name": "stdout",
     "output_type": "stream",
     "text": [
      "(418, 3)\n"
     ]
    }
   ],
   "source": [
    "large_cap_returns.dropna(inplace=True)\n",
    "print(large_cap_returns.shape)"
   ]
  },
  {
   "cell_type": "code",
   "execution_count": 13,
   "id": "b80d5bf0",
   "metadata": {},
   "outputs": [
    {
     "data": {
      "text/html": [
       "<div>\n",
       "<style scoped>\n",
       "    .dataframe tbody tr th:only-of-type {\n",
       "        vertical-align: middle;\n",
       "    }\n",
       "\n",
       "    .dataframe tbody tr th {\n",
       "        vertical-align: top;\n",
       "    }\n",
       "\n",
       "    .dataframe thead tr th {\n",
       "        text-align: left;\n",
       "    }\n",
       "\n",
       "    .dataframe thead tr:last-of-type th {\n",
       "        text-align: right;\n",
       "    }\n",
       "</style>\n",
       "<table border=\"1\" class=\"dataframe\">\n",
       "  <thead>\n",
       "    <tr>\n",
       "      <th>Sector</th>\n",
       "      <th>Banking</th>\n",
       "      <th>Healthcare</th>\n",
       "      <th>Technology</th>\n",
       "    </tr>\n",
       "    <tr>\n",
       "      <th>Company</th>\n",
       "      <th>FRC</th>\n",
       "      <th>MRNA</th>\n",
       "      <th>NVDA</th>\n",
       "    </tr>\n",
       "    <tr>\n",
       "      <th>Date</th>\n",
       "      <th></th>\n",
       "      <th></th>\n",
       "      <th></th>\n",
       "    </tr>\n",
       "  </thead>\n",
       "  <tbody>\n",
       "    <tr>\n",
       "      <th>2019-12-03</th>\n",
       "      <td>-0.009085</td>\n",
       "      <td>0.076923</td>\n",
       "      <td>-0.007599</td>\n",
       "    </tr>\n",
       "    <tr>\n",
       "      <th>2019-12-04</th>\n",
       "      <td>0.010910</td>\n",
       "      <td>-0.000470</td>\n",
       "      <td>0.008475</td>\n",
       "    </tr>\n",
       "  </tbody>\n",
       "</table>\n",
       "</div>"
      ],
      "text/plain": [
       "Sector       Banking Healthcare Technology\n",
       "Company          FRC       MRNA       NVDA\n",
       "Date                                      \n",
       "2019-12-03 -0.009085   0.076923  -0.007599\n",
       "2019-12-04  0.010910  -0.000470   0.008475"
      ]
     },
     "execution_count": 13,
     "metadata": {},
     "output_type": "execute_result"
    }
   ],
   "source": [
    "large_cap_returns.head(2)"
   ]
  },
  {
   "cell_type": "code",
   "execution_count": 14,
   "id": "53dc6e3f",
   "metadata": {},
   "outputs": [
    {
     "name": "stderr",
     "output_type": "stream",
     "text": [
      "/Users/mrunalighelani/opt/anaconda3/lib/python3.8/site-packages/pandas/core/reshape/merge.py:648: UserWarning: merging between different levels can give an unintended result (2 levels on the left,1 on the right)\n",
      "  warnings.warn(msg, UserWarning)\n"
     ]
    },
    {
     "data": {
      "text/html": [
       "<div>\n",
       "<style scoped>\n",
       "    .dataframe tbody tr th:only-of-type {\n",
       "        vertical-align: middle;\n",
       "    }\n",
       "\n",
       "    .dataframe tbody tr th {\n",
       "        vertical-align: top;\n",
       "    }\n",
       "\n",
       "    .dataframe thead th {\n",
       "        text-align: right;\n",
       "    }\n",
       "</style>\n",
       "<table border=\"1\" class=\"dataframe\">\n",
       "  <thead>\n",
       "    <tr style=\"text-align: right;\">\n",
       "      <th></th>\n",
       "      <th>(Banking, FRC)</th>\n",
       "      <th>(Healthcare, MRNA)</th>\n",
       "      <th>(Technology, NVDA)</th>\n",
       "      <th>S&amp;P 500</th>\n",
       "    </tr>\n",
       "    <tr>\n",
       "      <th>Date</th>\n",
       "      <th></th>\n",
       "      <th></th>\n",
       "      <th></th>\n",
       "      <th></th>\n",
       "    </tr>\n",
       "  </thead>\n",
       "  <tbody>\n",
       "    <tr>\n",
       "      <th>2019-12-03</th>\n",
       "      <td>-0.009085</td>\n",
       "      <td>0.076923</td>\n",
       "      <td>-0.007599</td>\n",
       "      <td>-0.006284</td>\n",
       "    </tr>\n",
       "    <tr>\n",
       "      <th>2019-12-04</th>\n",
       "      <td>0.010910</td>\n",
       "      <td>-0.000470</td>\n",
       "      <td>0.008475</td>\n",
       "      <td>-0.001498</td>\n",
       "    </tr>\n",
       "    <tr>\n",
       "      <th>2019-12-05</th>\n",
       "      <td>0.006439</td>\n",
       "      <td>-0.029619</td>\n",
       "      <td>-0.003247</td>\n",
       "      <td>-0.009053</td>\n",
       "    </tr>\n",
       "    <tr>\n",
       "      <th>2019-12-06</th>\n",
       "      <td>0.014058</td>\n",
       "      <td>-0.082364</td>\n",
       "      <td>0.016432</td>\n",
       "      <td>0.003173</td>\n",
       "    </tr>\n",
       "    <tr>\n",
       "      <th>2019-12-09</th>\n",
       "      <td>0.002222</td>\n",
       "      <td>-0.008448</td>\n",
       "      <td>0.000000</td>\n",
       "      <td>0.001098</td>\n",
       "    </tr>\n",
       "  </tbody>\n",
       "</table>\n",
       "</div>"
      ],
      "text/plain": [
       "            (Banking, FRC)  (Healthcare, MRNA)  (Technology, NVDA)   S&P 500\n",
       "Date                                                                        \n",
       "2019-12-03       -0.009085            0.076923           -0.007599 -0.006284\n",
       "2019-12-04        0.010910           -0.000470            0.008475 -0.001498\n",
       "2019-12-05        0.006439           -0.029619           -0.003247 -0.009053\n",
       "2019-12-06        0.014058           -0.082364            0.016432  0.003173\n",
       "2019-12-09        0.002222           -0.008448            0.000000  0.001098"
      ]
     },
     "execution_count": 14,
     "metadata": {},
     "output_type": "execute_result"
    }
   ],
   "source": [
    "total_portfolio = pd.merge(large_cap_returns, benchmark_all, left_on=\"Date\", right_on=\"Date\")\n",
    "total_portfolio.head()"
   ]
  },
  {
   "cell_type": "code",
   "execution_count": 15,
   "id": "3d82b452",
   "metadata": {},
   "outputs": [
    {
     "data": {
      "text/plain": [
       "(Banking, FRC)        0.025565\n",
       "(Healthcare, MRNA)    0.056376\n",
       "(Technology, NVDA)    0.032498\n",
       "S&P 500               0.017906\n",
       "dtype: float64"
      ]
     },
     "execution_count": 15,
     "metadata": {},
     "output_type": "execute_result"
    }
   ],
   "source": [
    "portfolio_risk = total_portfolio.std()\n",
    "portfolio_risk.head()"
   ]
  },
  {
   "cell_type": "code",
   "execution_count": 26,
   "id": "62e56756",
   "metadata": {},
   "outputs": [
    {
     "data": {
      "text/plain": [
       "<AxesSubplot:title={'center':'Risk'}>"
      ]
     },
     "execution_count": 26,
     "metadata": {},
     "output_type": "execute_result"
    },
    {
     "data": {
      "image/png": "[encoded data removed]",
      "text/plain": [
       "<Figure size 504x360 with 1 Axes>"
      ]
     },
     "metadata": {
      "needs_background": "light"
     },
     "output_type": "display_data"
    }
   ],
   "source": [
    "portfolio_risk[:3].plot(kind=\"bar\", figsize=(7,5), title=\"Risk\")"
   ]
  },
  {
   "cell_type": "code",
   "execution_count": 16,
   "id": "02a11375",
   "metadata": {},
   "outputs": [
    {
     "data": {
      "text/plain": [
       "(Banking, FRC)        0.405834\n",
       "(Healthcare, MRNA)    0.894937\n",
       "(Technology, NVDA)    0.515894\n",
       "S&P 500               0.284255\n",
       "dtype: float64"
      ]
     },
     "execution_count": 16,
     "metadata": {},
     "output_type": "execute_result"
    }
   ],
   "source": [
    "total_portfolio_std = total_portfolio.std()\n",
    "annualized_portfolio_std= total_portfolio_std*np.sqrt(252)\n",
    "annualized_portfolio_std"
   ]
  },
  {
   "cell_type": "code",
   "execution_count": 17,
   "id": "16d9c259",
   "metadata": {},
   "outputs": [
    {
     "data": {
      "text/plain": [
       "(Banking, FRC)        1.081764\n",
       "(Healthcare, MRNA)    2.373072\n",
       "(Technology, NVDA)    1.812125\n",
       "S&P 500              -0.606716\n",
       "dtype: float64"
      ]
     },
     "execution_count": 17,
     "metadata": {},
     "output_type": "execute_result"
    }
   ],
   "source": [
    "sharpe_ratio =  (total_portfolio.mean()*252) / annualized_portfolio_std\n",
    "sharpe_ratio"
   ]
  },
  {
   "cell_type": "code",
   "execution_count": 18,
   "id": "a4990dbf",
   "metadata": {},
   "outputs": [
    {
     "data": {
      "text/plain": [
       "<AxesSubplot:title={'center':'Sharpe Ratios'}>"
      ]
     },
     "execution_count": 18,
     "metadata": {},
     "output_type": "execute_result"
    },
    {
     "data": {
      "image/png": "[encoded data removed]",
      "text/plain": [
       "<Figure size 504x360 with 1 Axes>"
      ]
     },
     "metadata": {
      "needs_background": "light"
     },
     "output_type": "display_data"
    }
   ],
   "source": [
    "sharpe_ratio.plot(kind=\"bar\", figsize=(7,5), title=\"Sharpe Ratios\")"
   ]
  },
  {
   "cell_type": "code",
   "execution_count": null,
   "id": "a555122a",
   "metadata": {},
   "outputs": [],
   "source": []
  },
  {
   "cell_type": "code",
   "execution_count": 19,
   "id": "03d0634a",
   "metadata": {},
   "outputs": [
    {
     "data": {
      "text/html": [
       "<div>\n",
       "<style scoped>\n",
       "    .dataframe tbody tr th:only-of-type {\n",
       "        vertical-align: middle;\n",
       "    }\n",
       "\n",
       "    .dataframe tbody tr th {\n",
       "        vertical-align: top;\n",
       "    }\n",
       "\n",
       "    .dataframe thead th {\n",
       "        text-align: right;\n",
       "    }\n",
       "</style>\n",
       "<table border=\"1\" class=\"dataframe\">\n",
       "  <thead>\n",
       "    <tr style=\"text-align: right;\">\n",
       "      <th></th>\n",
       "      <th>(Banking, FRC)</th>\n",
       "      <th>(Healthcare, MRNA)</th>\n",
       "      <th>(Technology, NVDA)</th>\n",
       "      <th>S&amp;P 500</th>\n",
       "    </tr>\n",
       "  </thead>\n",
       "  <tbody>\n",
       "    <tr>\n",
       "      <th>(Banking, FRC)</th>\n",
       "      <td>1.000000</td>\n",
       "      <td>-0.095353</td>\n",
       "      <td>0.394561</td>\n",
       "      <td>0.193323</td>\n",
       "    </tr>\n",
       "    <tr>\n",
       "      <th>(Healthcare, MRNA)</th>\n",
       "      <td>-0.095353</td>\n",
       "      <td>1.000000</td>\n",
       "      <td>0.101118</td>\n",
       "      <td>0.047587</td>\n",
       "    </tr>\n",
       "    <tr>\n",
       "      <th>(Technology, NVDA)</th>\n",
       "      <td>0.394561</td>\n",
       "      <td>0.101118</td>\n",
       "      <td>1.000000</td>\n",
       "      <td>0.199187</td>\n",
       "    </tr>\n",
       "    <tr>\n",
       "      <th>S&amp;P 500</th>\n",
       "      <td>0.193323</td>\n",
       "      <td>0.047587</td>\n",
       "      <td>0.199187</td>\n",
       "      <td>1.000000</td>\n",
       "    </tr>\n",
       "  </tbody>\n",
       "</table>\n",
       "</div>"
      ],
      "text/plain": [
       "                    (Banking, FRC)  (Healthcare, MRNA)  (Technology, NVDA)  \\\n",
       "(Banking, FRC)            1.000000           -0.095353            0.394561   \n",
       "(Healthcare, MRNA)       -0.095353            1.000000            0.101118   \n",
       "(Technology, NVDA)        0.394561            0.101118            1.000000   \n",
       "S&P 500                   0.193323            0.047587            0.199187   \n",
       "\n",
       "                     S&P 500  \n",
       "(Banking, FRC)      0.193323  \n",
       "(Healthcare, MRNA)  0.047587  \n",
       "(Technology, NVDA)  0.199187  \n",
       "S&P 500             1.000000  "
      ]
     },
     "execution_count": 19,
     "metadata": {},
     "output_type": "execute_result"
    }
   ],
   "source": [
    "total_portfolio.corr()"
   ]
  },
  {
   "cell_type": "code",
   "execution_count": 20,
   "id": "67799205",
   "metadata": {},
   "outputs": [
    {
     "data": {
      "image/png": "[encoded data removed]",
      "text/plain": [
       "<Figure size 432x288 with 1 Axes>"
      ]
     },
     "metadata": {
      "needs_background": "light"
     },
     "output_type": "display_data"
    }
   ],
   "source": [
    "price = [2.50, 1.23, 4.02, 3.25, 5.00, 4.40]\n",
    "sales_per_day = [34, 62, 49, 22, 13, 19]\n",
    "\n",
    "plt.scatter(price, sales_per_day)\n",
    "plt.show()"
   ]
  },
  {
   "cell_type": "code",
   "execution_count": 21,
   "id": "c6211c97",
   "metadata": {},
   "outputs": [],
   "source": [
    "import seaborn as sns"
   ]
  },
  {
   "cell_type": "code",
   "execution_count": 29,
   "id": "2ea69dd9",
   "metadata": {},
   "outputs": [
    {
     "data": {
      "text/plain": [
       "Text(0.5, 1.0, 'Correlation Matrix for Portfolio')"
      ]
     },
     "execution_count": 29,
     "metadata": {},
     "output_type": "execute_result"
    },
    {
     "data": {
      "image/png": "[encoded data removed]",
      "text/plain": [
       "<Figure size 432x288 with 2 Axes>"
      ]
     },
     "metadata": {
      "needs_background": "light"
     },
     "output_type": "display_data"
    }
   ],
   "source": [
    "ax = plt.axes()\n",
    "sns.heatmap(total_portfolio.corr(), ax = ax)\n",
    "ax.set_title('Correlation Matrix for Portfolio')"
   ]
  },
  {
   "cell_type": "code",
   "execution_count": 23,
   "id": "18e788e9",
   "metadata": {},
   "outputs": [
    {
     "data": {
      "text/html": [
       "<div>\n",
       "<style scoped>\n",
       "    .dataframe tbody tr th:only-of-type {\n",
       "        vertical-align: middle;\n",
       "    }\n",
       "\n",
       "    .dataframe tbody tr th {\n",
       "        vertical-align: top;\n",
       "    }\n",
       "\n",
       "    .dataframe thead th {\n",
       "        text-align: right;\n",
       "    }\n",
       "</style>\n",
       "<table border=\"1\" class=\"dataframe\">\n",
       "  <thead>\n",
       "    <tr style=\"text-align: right;\">\n",
       "      <th></th>\n",
       "      <th>(Banking, FRC)</th>\n",
       "      <th>(Healthcare, MRNA)</th>\n",
       "      <th>(Technology, NVDA)</th>\n",
       "      <th>S&amp;P 500</th>\n",
       "    </tr>\n",
       "    <tr>\n",
       "      <th>Date</th>\n",
       "      <th></th>\n",
       "      <th></th>\n",
       "      <th></th>\n",
       "      <th></th>\n",
       "    </tr>\n",
       "  </thead>\n",
       "  <tbody>\n",
       "    <tr>\n",
       "      <th>2019-12-03</th>\n",
       "      <td>-0.009085</td>\n",
       "      <td>0.076923</td>\n",
       "      <td>-0.007599</td>\n",
       "      <td>-0.006284</td>\n",
       "    </tr>\n",
       "    <tr>\n",
       "      <th>2019-12-04</th>\n",
       "      <td>0.010910</td>\n",
       "      <td>-0.000470</td>\n",
       "      <td>0.008475</td>\n",
       "      <td>-0.001498</td>\n",
       "    </tr>\n",
       "    <tr>\n",
       "      <th>2019-12-05</th>\n",
       "      <td>0.006439</td>\n",
       "      <td>-0.029619</td>\n",
       "      <td>-0.003247</td>\n",
       "      <td>-0.009053</td>\n",
       "    </tr>\n",
       "    <tr>\n",
       "      <th>2019-12-06</th>\n",
       "      <td>0.014058</td>\n",
       "      <td>-0.082364</td>\n",
       "      <td>0.016432</td>\n",
       "      <td>0.003173</td>\n",
       "    </tr>\n",
       "    <tr>\n",
       "      <th>2019-12-09</th>\n",
       "      <td>0.002222</td>\n",
       "      <td>-0.008448</td>\n",
       "      <td>0.000000</td>\n",
       "      <td>0.001098</td>\n",
       "    </tr>\n",
       "  </tbody>\n",
       "</table>\n",
       "</div>"
      ],
      "text/plain": [
       "            (Banking, FRC)  (Healthcare, MRNA)  (Technology, NVDA)   S&P 500\n",
       "Date                                                                        \n",
       "2019-12-03       -0.009085            0.076923           -0.007599 -0.006284\n",
       "2019-12-04        0.010910           -0.000470            0.008475 -0.001498\n",
       "2019-12-05        0.006439           -0.029619           -0.003247 -0.009053\n",
       "2019-12-06        0.014058           -0.082364            0.016432  0.003173\n",
       "2019-12-09        0.002222           -0.008448            0.000000  0.001098"
      ]
     },
     "execution_count": 23,
     "metadata": {},
     "output_type": "execute_result"
    }
   ],
   "source": [
    "total_portfolio.head()"
   ]
  },
  {
   "cell_type": "code",
   "execution_count": 24,
   "id": "89fb70ca",
   "metadata": {},
   "outputs": [],
   "source": [
    "total_portfolio.to_csv(\"Total_portfolio_correlation.csv\")"
   ]
  },
  {
   "cell_type": "code",
   "execution_count": null,
   "id": "13a664f2",
   "metadata": {},
   "outputs": [],
   "source": []
  }
 ],
 "metadata": {
  "kernelspec": {
   "display_name": "Python 3",
   "language": "python",
   "name": "python3"
  },
  "language_info": {
   "codemirror_mode": {
    "name": "ipython",
    "version": 3
   },
   "file_extension": ".py",
   "mimetype": "text/x-python",
   "name": "python",
   "nbconvert_exporter": "python",
   "pygments_lexer": "ipython3",
   "version": "3.8.8"
  }
 },
 "nbformat": 4,
 "nbformat_minor": 5
}
